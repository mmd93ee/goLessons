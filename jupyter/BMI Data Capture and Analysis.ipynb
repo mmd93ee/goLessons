{
 "cells": [
  {
   "cell_type": "markdown",
   "metadata": {},
   "source": [
    "# BMI Analysis and graphing of data\n",
    "\n",
    "## Get data for BMI, height, weight and age and load into a new struct.  Use numplot and gonum to display distribution and other statistical visualisations.\n",
    "\n",
    "In order to run this make sure the libraries are imported:\n",
    "\n",
    "   - go get -u <name>\n",
    "   - gota/dataframe: github.com/kniren/gota/dataframe\n",
    "   - gonmum/plot: gonum.org/v1/plot\n",
    "   - gonum/gonum: gonum.org/v1/gonum"
   ]
  },
  {
   "cell_type": "code",
   "execution_count": 1,
   "metadata": {},
   "outputs": [],
   "source": [
    "import (\n",
    "    \"bufio\"\n",
    "    \"bytes\"\n",
    "    \"fmt\"\n",
    "    \"io/ioutil\"\n",
    "\n",
    "    \"github.com/kniren/gota/dataframe\"\n",
    "    \"gonum.org/v1/plot\"\n",
    "    \"gonum.org/v1/plot/plotter\"\n",
    "    \"gonum.org/v1/plot/vg\"\n",
    ")"
   ]
  },
  {
   "cell_type": "markdown",
   "metadata": {},
   "source": [
    "Read in the CSV file.  This can be downloaded from Kaggle.  Load into a dataframe and then dump out the details of the data."
   ]
  },
  {
   "cell_type": "code",
   "execution_count": 2,
   "metadata": {},
   "outputs": [],
   "source": [
    "datapath := \"./\"\n",
    "datafile := \"500_Person_Gender_Height_Weight_Index.csv\"\n",
    "\n",
    "data, err := ioutil.ReadFile(datapath + \"/\" + datafile)\n",
    "\n",
    "if err != nil {\n",
    "  fmt.Println(\"Error loading datafile: \", err)\n",
    "  }\n",
    "\n",
    "df := dataframe.ReadCSV(bytes.NewReader(data))"
   ]
  },
  {
   "cell_type": "markdown",
   "metadata": {},
   "source": [
    "Describe the datafile to make sure it loaded properly"
   ]
  },
  {
   "cell_type": "code",
   "execution_count": 3,
   "metadata": {},
   "outputs": [
    {
     "name": "stdout",
     "output_type": "stream",
     "text": [
      "Dataframe Details: [7x5] DataFrame\n",
      "\n",
      "    column   Gender   Height     Weight     Index   \n",
      " 0: mean     -        169.944000 106.000000 3.748000\n",
      " 1: stddev   -        16.375261  32.382607  1.355053\n",
      " 2: min      Female   140.000000 50.000000  0.000000\n",
      " 3: 25%      -        156.000000 80.000000  3.000000\n",
      " 4: 50%      -        170.000000 106.000000 4.000000\n",
      " 5: 75%      -        184.000000 136.000000 5.000000\n",
      " 6: max      Male     199.000000 160.000000 5.000000\n",
      "    <string> <string> <float>    <float>    <float> \n",
      "\n"
     ]
    },
    {
     "data": {
      "text/plain": [
       "514 <nil>"
      ]
     },
     "execution_count": 3,
     "metadata": {},
     "output_type": "execute_result"
    }
   ],
   "source": [
    "fmt.Println(\"Dataframe Details:\", df.Describe())"
   ]
  },
  {
   "cell_type": "markdown",
   "metadata": {},
   "source": [
    "SeriesToPlotValues takes a dataframe and a column name and return a plotter.Values slice to be used as a graph indices.  Panic if column does not exist.\n"
   ]
  },
  {
   "cell_type": "code",
   "execution_count": 4,
   "metadata": {},
   "outputs": [],
   "source": [
    "func SeriesToPlotValues(df dataframe.DataFrame, col string) plotter.Values {\n",
    "\n",
    "  //fmt.Println(df)\n",
    "  rows, _ := df.Dims()\n",
    "  v := make(plotter.Values, rows)\n",
    "  s := df.Col(col)\n",
    "\n",
    "  // Iterate row index by adding a value as a float for each item in the\n",
    "  for i := 0; i < rows; i++ {\n",
    "    v[i] = s.Elem(i).Float()\n",
    "  }\n",
    "\n",
    "  return v\n",
    "}"
   ]
  },
  {
   "cell_type": "markdown",
   "metadata": {},
   "source": [
    "HistogramData produces a byteslice of jpg data for a histogram of the column with the name 'col' in the database 'df'\n",
    "\n"
   ]
  },
  {
   "cell_type": "code",
   "execution_count": 5,
   "metadata": {},
   "outputs": [],
   "source": [
    "func HistogramData(v plotter.Values, title string) []byte {\n",
    "\n",
    "  // Make a plot and set the title\n",
    "  p, err := plot.New()\n",
    "  if err != nil {\n",
    "    panic(err)\n",
    "  }\n",
    "\n",
    "  p.Title.Text = title\n",
    "  h, err := plotter.NewHist(v, 10)\n",
    "  if err != nil {\n",
    "    panic(err)\n",
    "  }\n",
    "    \n",
    "  //h.Nomalise(1) // Uncomment to normalise the data uuder the graph\n",
    "    \n",
    "  p.Add(h)\n",
    "  var b bytes.Buffer\n",
    "\n",
    "  w, err := p.WriterTo(5*vg.Inch, 4*vg.Inch, \"jpg\")\n",
    "  if err != nil {\n",
    "    panic(err)\n",
    "  }\n",
    "\n",
    "  writer := bufio.NewWriter(&b)  \n",
    "  w.WriteTo(writer)\n",
    "\n",
    "  return b.Bytes()\n",
    "}"
   ]
  },
  {
   "cell_type": "markdown",
   "metadata": {},
   "source": [
    "Draw out the height and weight distribution histograms"
   ]
  },
  {
   "cell_type": "code",
   "execution_count": 6,
   "metadata": {},
   "outputs": [
    {
     "data": {
      "image/jpeg": "[encoded data removed]",
      "text/plain": [
       "image/jpeg"
      ]
     },
     "execution_count": 6,
     "metadata": {},
     "output_type": "execute_result"
    }
   ],
   "source": [
    "display.JPEG(HistogramData(SeriesToPlotValues(df, \"Height\"), \"Height Distribution\"))"
   ]
  },
  {
   "cell_type": "code",
   "execution_count": 7,
   "metadata": {},
   "outputs": [
    {
     "data": {
      "image/jpeg": "[encoded data removed]",
      "text/plain": [
       "image/jpeg"
      ]
     },
     "execution_count": 7,
     "metadata": {},
     "output_type": "execute_result"
    }
   ],
   "source": [
    "display.JPEG(HistogramData(SeriesToPlotValues(df, \"Weight\"), \"Weight Distribution\"))"
   ]
  },
  {
   "cell_type": "code",
   "execution_count": null,
   "metadata": {},
   "outputs": [],
   "source": []
  },
  {
   "cell_type": "code",
   "execution_count": null,
   "metadata": {},
   "outputs": [],
   "source": []
  }
 ],
 "metadata": {
  "kernelspec": {
   "display_name": "Go",
   "language": "go",
   "name": "gophernotes"
  },
  "language_info": {
   "codemirror_mode": "",
   "file_extension": ".go",
   "mimetype": "",
   "name": "go",
   "nbconvert_exporter": "",
   "pygments_lexer": "",
   "version": "go1.11.4"
  }
 },
 "nbformat": 4,
 "nbformat_minor": 2
}
